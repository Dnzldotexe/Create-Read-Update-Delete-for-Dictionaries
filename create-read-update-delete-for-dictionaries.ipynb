{
 "cells": [
  {
   "cell_type": "markdown",
   "id": "60451a81",
   "metadata": {
    "_cell_guid": "b1076dfc-b9ad-4769-8c92-a6c4dae69d19",
    "_uuid": "8f2839f25d086af736a60e9eeb907d3b93b6e0e5",
    "papermill": {
     "duration": 0.003546,
     "end_time": "2023-04-05T09:27:32.869611",
     "exception": false,
     "start_time": "2023-04-05T09:27:32.866065",
     "status": "completed"
    },
    "tags": []
   },
   "source": [
    "# CRUD for Dictionaries\n",
    "\n",
    "## Author: Danziel Cempron\n",
    "\n",
    "## Creation Date: April 5, 2023"
   ]
  },
  {
   "cell_type": "markdown",
   "id": "447f628e",
   "metadata": {
    "papermill": {
     "duration": 0.002191,
     "end_time": "2023-04-05T09:27:32.874477",
     "exception": false,
     "start_time": "2023-04-05T09:27:32.872286",
     "status": "completed"
    },
    "tags": []
   },
   "source": [
    "# Create"
   ]
  },
  {
   "cell_type": "code",
   "execution_count": null,
   "id": "823a6b46",
   "metadata": {
    "papermill": {
     "duration": 0.002099,
     "end_time": "2023-04-05T09:27:32.878876",
     "exception": false,
     "start_time": "2023-04-05T09:27:32.876777",
     "status": "completed"
    },
    "tags": []
   },
   "outputs": [],
   "source": []
  },
  {
   "cell_type": "markdown",
   "id": "4da3ad54",
   "metadata": {
    "papermill": {
     "duration": 0.002061,
     "end_time": "2023-04-05T09:27:32.883202",
     "exception": false,
     "start_time": "2023-04-05T09:27:32.881141",
     "status": "completed"
    },
    "tags": []
   },
   "source": [
    "# Read"
   ]
  },
  {
   "cell_type": "code",
   "execution_count": null,
   "id": "a31ba354",
   "metadata": {
    "papermill": {
     "duration": 0.00208,
     "end_time": "2023-04-05T09:27:32.887999",
     "exception": false,
     "start_time": "2023-04-05T09:27:32.885919",
     "status": "completed"
    },
    "tags": []
   },
   "outputs": [],
   "source": []
  },
  {
   "cell_type": "markdown",
   "id": "5a07d953",
   "metadata": {
    "papermill": {
     "duration": 0.002067,
     "end_time": "2023-04-05T09:27:32.892450",
     "exception": false,
     "start_time": "2023-04-05T09:27:32.890383",
     "status": "completed"
    },
    "tags": []
   },
   "source": [
    "# Update"
   ]
  },
  {
   "cell_type": "code",
   "execution_count": null,
   "id": "70b71977",
   "metadata": {
    "papermill": {
     "duration": 0.002046,
     "end_time": "2023-04-05T09:27:32.896797",
     "exception": false,
     "start_time": "2023-04-05T09:27:32.894751",
     "status": "completed"
    },
    "tags": []
   },
   "outputs": [],
   "source": []
  },
  {
   "cell_type": "markdown",
   "id": "afb36c18",
   "metadata": {
    "papermill": {
     "duration": 0.002047,
     "end_time": "2023-04-05T09:27:32.901153",
     "exception": false,
     "start_time": "2023-04-05T09:27:32.899106",
     "status": "completed"
    },
    "tags": []
   },
   "source": [
    "# Delete"
   ]
  },
  {
   "cell_type": "code",
   "execution_count": null,
   "id": "a97465a1",
   "metadata": {
    "papermill": {
     "duration": 0.002056,
     "end_time": "2023-04-05T09:27:32.905477",
     "exception": false,
     "start_time": "2023-04-05T09:27:32.903421",
     "status": "completed"
    },
    "tags": []
   },
   "outputs": [],
   "source": []
  }
 ],
 "metadata": {
  "kernelspec": {
   "display_name": "Python 3",
   "language": "python",
   "name": "python3"
  },
  "language_info": {
   "codemirror_mode": {
    "name": "ipython",
    "version": 3
   },
   "file_extension": ".py",
   "mimetype": "text/x-python",
   "name": "python",
   "nbconvert_exporter": "python",
   "pygments_lexer": "ipython3",
   "version": "3.7.12"
  },
  "papermill": {
   "default_parameters": {},
   "duration": 11.042865,
   "end_time": "2023-04-05T09:27:33.633666",
   "environment_variables": {},
   "exception": null,
   "input_path": "__notebook__.ipynb",
   "output_path": "__notebook__.ipynb",
   "parameters": {},
   "start_time": "2023-04-05T09:27:22.590801",
   "version": "2.4.0"
  }
 },
 "nbformat": 4,
 "nbformat_minor": 5
}
