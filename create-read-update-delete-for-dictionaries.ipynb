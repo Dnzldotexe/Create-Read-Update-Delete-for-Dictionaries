{
 "cells": [
  {
   "cell_type": "markdown",
   "id": "ce424334",
   "metadata": {
    "_cell_guid": "b1076dfc-b9ad-4769-8c92-a6c4dae69d19",
    "_uuid": "8f2839f25d086af736a60e9eeb907d3b93b6e0e5",
    "papermill": {
     "duration": 0.007532,
     "end_time": "2023-04-05T10:20:58.548647",
     "exception": false,
     "start_time": "2023-04-05T10:20:58.541115",
     "status": "completed"
    },
    "tags": []
   },
   "source": [
    "# CRUD for Dictionaries\n",
    "\n",
    "## Author: Danziel Cempron\n",
    "\n",
    "## Creation Date: April 5, 2023"
   ]
  },
  {
   "cell_type": "markdown",
   "id": "8b50e45c",
   "metadata": {
    "papermill": {
     "duration": 0.005554,
     "end_time": "2023-04-05T10:20:58.560323",
     "exception": false,
     "start_time": "2023-04-05T10:20:58.554769",
     "status": "completed"
    },
    "tags": []
   },
   "source": [
    "# Create"
   ]
  },
  {
   "cell_type": "code",
   "execution_count": 1,
   "id": "1ac38e52",
   "metadata": {
    "execution": {
     "iopub.execute_input": "2023-04-05T10:20:58.574153Z",
     "iopub.status.busy": "2023-04-05T10:20:58.573728Z",
     "iopub.status.idle": "2023-04-05T10:20:58.584582Z",
     "shell.execute_reply": "2023-04-05T10:20:58.583696Z"
    },
    "papermill": {
     "duration": 0.020773,
     "end_time": "2023-04-05T10:20:58.587013",
     "exception": false,
     "start_time": "2023-04-05T10:20:58.566240",
     "status": "completed"
    },
    "tags": []
   },
   "outputs": [],
   "source": [
    "# Creating a Dictionary\n",
    "app = {\n",
    "    \"name\":\"Kaggle\",\n",
    "    \"founded\":2010,\n",
    "    \"parent\":\"Google LLC\",\n",
    "    \"users\":8_000_000,\n",
    "    \"usage\":[\"Data Science\", \"Data Analytics\", \"Machine Learning\"],\n",
    "    \"Cloud\":True\n",
    "}"
   ]
  },
  {
   "cell_type": "code",
   "execution_count": 2,
   "id": "0a5044fa",
   "metadata": {
    "execution": {
     "iopub.execute_input": "2023-04-05T10:20:58.601210Z",
     "iopub.status.busy": "2023-04-05T10:20:58.600510Z",
     "iopub.status.idle": "2023-04-05T10:20:58.608580Z",
     "shell.execute_reply": "2023-04-05T10:20:58.607360Z"
    },
    "papermill": {
     "duration": 0.017992,
     "end_time": "2023-04-05T10:20:58.611041",
     "exception": false,
     "start_time": "2023-04-05T10:20:58.593049",
     "status": "completed"
    },
    "tags": []
   },
   "outputs": [
    {
     "data": {
      "text/plain": [
       "dict"
      ]
     },
     "execution_count": 2,
     "metadata": {},
     "output_type": "execute_result"
    }
   ],
   "source": [
    "type(app)"
   ]
  },
  {
   "cell_type": "markdown",
   "id": "ebd5fe8c",
   "metadata": {
    "papermill": {
     "duration": 0.00557,
     "end_time": "2023-04-05T10:20:58.622638",
     "exception": false,
     "start_time": "2023-04-05T10:20:58.617068",
     "status": "completed"
    },
    "tags": []
   },
   "source": [
    "# Read"
   ]
  },
  {
   "cell_type": "code",
   "execution_count": 3,
   "id": "2be63e04",
   "metadata": {
    "execution": {
     "iopub.execute_input": "2023-04-05T10:20:58.636406Z",
     "iopub.status.busy": "2023-04-05T10:20:58.635741Z",
     "iopub.status.idle": "2023-04-05T10:20:58.642964Z",
     "shell.execute_reply": "2023-04-05T10:20:58.641860Z"
    },
    "papermill": {
     "duration": 0.016758,
     "end_time": "2023-04-05T10:20:58.645200",
     "exception": false,
     "start_time": "2023-04-05T10:20:58.628442",
     "status": "completed"
    },
    "tags": []
   },
   "outputs": [
    {
     "data": {
      "text/plain": [
       "{'name': 'Kaggle',\n",
       " 'founded': 2010,\n",
       " 'parent': 'Google LLC',\n",
       " 'users': 8000000,\n",
       " 'usage': ['Data Science', 'Data Analytics', 'Machine Learning'],\n",
       " 'Cloud': True}"
      ]
     },
     "execution_count": 3,
     "metadata": {},
     "output_type": "execute_result"
    }
   ],
   "source": [
    "# Reading a Dictionary\n",
    "app"
   ]
  },
  {
   "cell_type": "code",
   "execution_count": 4,
   "id": "ab9bd885",
   "metadata": {
    "execution": {
     "iopub.execute_input": "2023-04-05T10:20:58.659183Z",
     "iopub.status.busy": "2023-04-05T10:20:58.658760Z",
     "iopub.status.idle": "2023-04-05T10:20:58.665039Z",
     "shell.execute_reply": "2023-04-05T10:20:58.664180Z"
    },
    "papermill": {
     "duration": 0.016225,
     "end_time": "2023-04-05T10:20:58.667523",
     "exception": false,
     "start_time": "2023-04-05T10:20:58.651298",
     "status": "completed"
    },
    "tags": []
   },
   "outputs": [
    {
     "data": {
      "text/plain": [
       "'Kaggle'"
      ]
     },
     "execution_count": 4,
     "metadata": {},
     "output_type": "execute_result"
    }
   ],
   "source": [
    "# Reading one value\n",
    "app[\"name\"]"
   ]
  },
  {
   "cell_type": "code",
   "execution_count": 5,
   "id": "0af4cdae",
   "metadata": {
    "execution": {
     "iopub.execute_input": "2023-04-05T10:20:58.682481Z",
     "iopub.status.busy": "2023-04-05T10:20:58.681791Z",
     "iopub.status.idle": "2023-04-05T10:20:58.688770Z",
     "shell.execute_reply": "2023-04-05T10:20:58.687699Z"
    },
    "papermill": {
     "duration": 0.017349,
     "end_time": "2023-04-05T10:20:58.691185",
     "exception": false,
     "start_time": "2023-04-05T10:20:58.673836",
     "status": "completed"
    },
    "tags": []
   },
   "outputs": [
    {
     "data": {
      "text/plain": [
       "list"
      ]
     },
     "execution_count": 5,
     "metadata": {},
     "output_type": "execute_result"
    }
   ],
   "source": [
    "# Reading one value\n",
    "type(app[\"usage\"])"
   ]
  },
  {
   "cell_type": "code",
   "execution_count": 6,
   "id": "6312aeac",
   "metadata": {
    "execution": {
     "iopub.execute_input": "2023-04-05T10:20:58.706564Z",
     "iopub.status.busy": "2023-04-05T10:20:58.705885Z",
     "iopub.status.idle": "2023-04-05T10:20:58.712853Z",
     "shell.execute_reply": "2023-04-05T10:20:58.711702Z"
    },
    "papermill": {
     "duration": 0.01755,
     "end_time": "2023-04-05T10:20:58.715186",
     "exception": false,
     "start_time": "2023-04-05T10:20:58.697636",
     "status": "completed"
    },
    "tags": []
   },
   "outputs": [
    {
     "data": {
      "text/plain": [
       "dict_keys(['name', 'founded', 'parent', 'users', 'usage', 'Cloud'])"
      ]
     },
     "execution_count": 6,
     "metadata": {},
     "output_type": "execute_result"
    }
   ],
   "source": [
    "# Reading just the keys\n",
    "app.keys()"
   ]
  },
  {
   "cell_type": "code",
   "execution_count": 7,
   "id": "7e86e9f5",
   "metadata": {
    "execution": {
     "iopub.execute_input": "2023-04-05T10:20:58.730161Z",
     "iopub.status.busy": "2023-04-05T10:20:58.729730Z",
     "iopub.status.idle": "2023-04-05T10:20:58.737064Z",
     "shell.execute_reply": "2023-04-05T10:20:58.735884Z"
    },
    "papermill": {
     "duration": 0.017855,
     "end_time": "2023-04-05T10:20:58.739514",
     "exception": false,
     "start_time": "2023-04-05T10:20:58.721659",
     "status": "completed"
    },
    "tags": []
   },
   "outputs": [
    {
     "data": {
      "text/plain": [
       "dict_values(['Kaggle', 2010, 'Google LLC', 8000000, ['Data Science', 'Data Analytics', 'Machine Learning'], True])"
      ]
     },
     "execution_count": 7,
     "metadata": {},
     "output_type": "execute_result"
    }
   ],
   "source": [
    "# Reading just the values\n",
    "app.values()"
   ]
  },
  {
   "cell_type": "code",
   "execution_count": 8,
   "id": "e0df6dfe",
   "metadata": {
    "execution": {
     "iopub.execute_input": "2023-04-05T10:20:58.755585Z",
     "iopub.status.busy": "2023-04-05T10:20:58.755133Z",
     "iopub.status.idle": "2023-04-05T10:20:58.761450Z",
     "shell.execute_reply": "2023-04-05T10:20:58.760538Z"
    },
    "papermill": {
     "duration": 0.017295,
     "end_time": "2023-04-05T10:20:58.763778",
     "exception": false,
     "start_time": "2023-04-05T10:20:58.746483",
     "status": "completed"
    },
    "tags": []
   },
   "outputs": [
    {
     "data": {
      "text/plain": [
       "dict_items([('name', 'Kaggle'), ('founded', 2010), ('parent', 'Google LLC'), ('users', 8000000), ('usage', ['Data Science', 'Data Analytics', 'Machine Learning']), ('Cloud', True)])"
      ]
     },
     "execution_count": 8,
     "metadata": {},
     "output_type": "execute_result"
    }
   ],
   "source": [
    "# Reading both key and value pairs\n",
    "app.items()"
   ]
  },
  {
   "cell_type": "code",
   "execution_count": 9,
   "id": "00ff49cf",
   "metadata": {
    "execution": {
     "iopub.execute_input": "2023-04-05T10:20:58.780740Z",
     "iopub.status.busy": "2023-04-05T10:20:58.779690Z",
     "iopub.status.idle": "2023-04-05T10:20:58.787526Z",
     "shell.execute_reply": "2023-04-05T10:20:58.786207Z"
    },
    "papermill": {
     "duration": 0.019451,
     "end_time": "2023-04-05T10:20:58.789926",
     "exception": false,
     "start_time": "2023-04-05T10:20:58.770475",
     "status": "completed"
    },
    "tags": []
   },
   "outputs": [
    {
     "data": {
      "text/plain": [
       "('name', 'Kaggle')"
      ]
     },
     "execution_count": 9,
     "metadata": {},
     "output_type": "execute_result"
    }
   ],
   "source": [
    "# Reading first of both key and value pairs\n",
    "list(app.items())[0]"
   ]
  },
  {
   "cell_type": "markdown",
   "id": "d21f3487",
   "metadata": {
    "papermill": {
     "duration": 0.006655,
     "end_time": "2023-04-05T10:20:58.803382",
     "exception": false,
     "start_time": "2023-04-05T10:20:58.796727",
     "status": "completed"
    },
    "tags": []
   },
   "source": [
    "# Update"
   ]
  },
  {
   "cell_type": "code",
   "execution_count": 10,
   "id": "717d698a",
   "metadata": {
    "execution": {
     "iopub.execute_input": "2023-04-05T10:20:58.819635Z",
     "iopub.status.busy": "2023-04-05T10:20:58.818827Z",
     "iopub.status.idle": "2023-04-05T10:20:58.824140Z",
     "shell.execute_reply": "2023-04-05T10:20:58.823243Z"
    },
    "papermill": {
     "duration": 0.016326,
     "end_time": "2023-04-05T10:20:58.826535",
     "exception": false,
     "start_time": "2023-04-05T10:20:58.810209",
     "status": "completed"
    },
    "tags": []
   },
   "outputs": [],
   "source": [
    "# Updating the Dictionary\n",
    "app[\"users\"] = 8_100_000"
   ]
  },
  {
   "cell_type": "code",
   "execution_count": 11,
   "id": "c2115c4c",
   "metadata": {
    "execution": {
     "iopub.execute_input": "2023-04-05T10:20:58.842450Z",
     "iopub.status.busy": "2023-04-05T10:20:58.841760Z",
     "iopub.status.idle": "2023-04-05T10:20:58.849229Z",
     "shell.execute_reply": "2023-04-05T10:20:58.848123Z"
    },
    "papermill": {
     "duration": 0.018431,
     "end_time": "2023-04-05T10:20:58.851766",
     "exception": false,
     "start_time": "2023-04-05T10:20:58.833335",
     "status": "completed"
    },
    "tags": []
   },
   "outputs": [
    {
     "data": {
      "text/plain": [
       "{'name': 'Kaggle',\n",
       " 'founded': 2010,\n",
       " 'parent': 'Google LLC',\n",
       " 'users': 8100000,\n",
       " 'usage': ['Data Science', 'Data Analytics', 'Machine Learning'],\n",
       " 'Cloud': True}"
      ]
     },
     "execution_count": 11,
     "metadata": {},
     "output_type": "execute_result"
    }
   ],
   "source": [
    "app"
   ]
  },
  {
   "cell_type": "code",
   "execution_count": 12,
   "id": "0c73f24b",
   "metadata": {
    "execution": {
     "iopub.execute_input": "2023-04-05T10:20:58.868070Z",
     "iopub.status.busy": "2023-04-05T10:20:58.867601Z",
     "iopub.status.idle": "2023-04-05T10:20:58.872428Z",
     "shell.execute_reply": "2023-04-05T10:20:58.871158Z"
    },
    "papermill": {
     "duration": 0.016177,
     "end_time": "2023-04-05T10:20:58.875125",
     "exception": false,
     "start_time": "2023-04-05T10:20:58.858948",
     "status": "completed"
    },
    "tags": []
   },
   "outputs": [],
   "source": [
    "# Adding a list to the Dictionary\n",
    "app[\"Competitors\"] = [\"Google Colab\", \"MS Azure Notebook\"]"
   ]
  },
  {
   "cell_type": "code",
   "execution_count": 13,
   "id": "2ee43039",
   "metadata": {
    "execution": {
     "iopub.execute_input": "2023-04-05T10:20:58.891692Z",
     "iopub.status.busy": "2023-04-05T10:20:58.890721Z",
     "iopub.status.idle": "2023-04-05T10:20:58.898222Z",
     "shell.execute_reply": "2023-04-05T10:20:58.896973Z"
    },
    "papermill": {
     "duration": 0.018415,
     "end_time": "2023-04-05T10:20:58.900721",
     "exception": false,
     "start_time": "2023-04-05T10:20:58.882306",
     "status": "completed"
    },
    "tags": []
   },
   "outputs": [
    {
     "data": {
      "text/plain": [
       "{'name': 'Kaggle',\n",
       " 'founded': 2010,\n",
       " 'parent': 'Google LLC',\n",
       " 'users': 8100000,\n",
       " 'usage': ['Data Science', 'Data Analytics', 'Machine Learning'],\n",
       " 'Cloud': True,\n",
       " 'Competitors': ['Google Colab', 'MS Azure Notebook']}"
      ]
     },
     "execution_count": 13,
     "metadata": {},
     "output_type": "execute_result"
    }
   ],
   "source": [
    "app"
   ]
  },
  {
   "cell_type": "code",
   "execution_count": 14,
   "id": "d3777c7f",
   "metadata": {
    "execution": {
     "iopub.execute_input": "2023-04-05T10:20:58.917300Z",
     "iopub.status.busy": "2023-04-05T10:20:58.916526Z",
     "iopub.status.idle": "2023-04-05T10:20:58.920994Z",
     "shell.execute_reply": "2023-04-05T10:20:58.920099Z"
    },
    "papermill": {
     "duration": 0.015487,
     "end_time": "2023-04-05T10:20:58.923485",
     "exception": false,
     "start_time": "2023-04-05T10:20:58.907998",
     "status": "completed"
    },
    "tags": []
   },
   "outputs": [],
   "source": [
    "# Adding a new key value pair to the Dictionary\n",
    "app[\"Location\"] = \"San Francisco, California\""
   ]
  },
  {
   "cell_type": "code",
   "execution_count": 15,
   "id": "86516f48",
   "metadata": {
    "execution": {
     "iopub.execute_input": "2023-04-05T10:20:58.940426Z",
     "iopub.status.busy": "2023-04-05T10:20:58.940037Z",
     "iopub.status.idle": "2023-04-05T10:20:58.946751Z",
     "shell.execute_reply": "2023-04-05T10:20:58.945539Z"
    },
    "papermill": {
     "duration": 0.018281,
     "end_time": "2023-04-05T10:20:58.949332",
     "exception": false,
     "start_time": "2023-04-05T10:20:58.931051",
     "status": "completed"
    },
    "tags": []
   },
   "outputs": [
    {
     "data": {
      "text/plain": [
       "{'name': 'Kaggle',\n",
       " 'founded': 2010,\n",
       " 'parent': 'Google LLC',\n",
       " 'users': 8100000,\n",
       " 'usage': ['Data Science', 'Data Analytics', 'Machine Learning'],\n",
       " 'Cloud': True,\n",
       " 'Competitors': ['Google Colab', 'MS Azure Notebook'],\n",
       " 'Location': 'San Francisco, California'}"
      ]
     },
     "execution_count": 15,
     "metadata": {},
     "output_type": "execute_result"
    }
   ],
   "source": [
    "app"
   ]
  },
  {
   "cell_type": "markdown",
   "id": "a32138c1",
   "metadata": {
    "papermill": {
     "duration": 0.006924,
     "end_time": "2023-04-05T10:20:58.963445",
     "exception": false,
     "start_time": "2023-04-05T10:20:58.956521",
     "status": "completed"
    },
    "tags": []
   },
   "source": [
    "# Delete"
   ]
  },
  {
   "cell_type": "code",
   "execution_count": 16,
   "id": "d32530a0",
   "metadata": {
    "execution": {
     "iopub.execute_input": "2023-04-05T10:20:58.979887Z",
     "iopub.status.busy": "2023-04-05T10:20:58.979224Z",
     "iopub.status.idle": "2023-04-05T10:20:58.984654Z",
     "shell.execute_reply": "2023-04-05T10:20:58.983700Z"
    },
    "papermill": {
     "duration": 0.016511,
     "end_time": "2023-04-05T10:20:58.987047",
     "exception": false,
     "start_time": "2023-04-05T10:20:58.970536",
     "status": "completed"
    },
    "tags": []
   },
   "outputs": [],
   "source": [
    "# Deleting a key value pair in the Dictionary\n",
    "del app[\"Location\"]"
   ]
  },
  {
   "cell_type": "code",
   "execution_count": 17,
   "id": "cd20036c",
   "metadata": {
    "execution": {
     "iopub.execute_input": "2023-04-05T10:20:59.003867Z",
     "iopub.status.busy": "2023-04-05T10:20:59.003412Z",
     "iopub.status.idle": "2023-04-05T10:20:59.010816Z",
     "shell.execute_reply": "2023-04-05T10:20:59.009770Z"
    },
    "papermill": {
     "duration": 0.018875,
     "end_time": "2023-04-05T10:20:59.013068",
     "exception": false,
     "start_time": "2023-04-05T10:20:58.994193",
     "status": "completed"
    },
    "tags": []
   },
   "outputs": [
    {
     "data": {
      "text/plain": [
       "{'name': 'Kaggle',\n",
       " 'founded': 2010,\n",
       " 'parent': 'Google LLC',\n",
       " 'users': 8100000,\n",
       " 'usage': ['Data Science', 'Data Analytics', 'Machine Learning'],\n",
       " 'Cloud': True,\n",
       " 'Competitors': ['Google Colab', 'MS Azure Notebook']}"
      ]
     },
     "execution_count": 17,
     "metadata": {},
     "output_type": "execute_result"
    }
   ],
   "source": [
    "app"
   ]
  },
  {
   "cell_type": "code",
   "execution_count": 18,
   "id": "3ede1d9e",
   "metadata": {
    "execution": {
     "iopub.execute_input": "2023-04-05T10:20:59.029741Z",
     "iopub.status.busy": "2023-04-05T10:20:59.029026Z",
     "iopub.status.idle": "2023-04-05T10:20:59.034367Z",
     "shell.execute_reply": "2023-04-05T10:20:59.033381Z"
    },
    "papermill": {
     "duration": 0.01655,
     "end_time": "2023-04-05T10:20:59.036830",
     "exception": false,
     "start_time": "2023-04-05T10:20:59.020280",
     "status": "completed"
    },
    "tags": []
   },
   "outputs": [],
   "source": [
    "# Deleting an item in a list inside the Dictionary\n",
    "del app[\"usage\"][1]"
   ]
  },
  {
   "cell_type": "code",
   "execution_count": 19,
   "id": "1b38d122",
   "metadata": {
    "execution": {
     "iopub.execute_input": "2023-04-05T10:20:59.053673Z",
     "iopub.status.busy": "2023-04-05T10:20:59.052970Z",
     "iopub.status.idle": "2023-04-05T10:20:59.060371Z",
     "shell.execute_reply": "2023-04-05T10:20:59.059181Z"
    },
    "papermill": {
     "duration": 0.01862,
     "end_time": "2023-04-05T10:20:59.062694",
     "exception": false,
     "start_time": "2023-04-05T10:20:59.044074",
     "status": "completed"
    },
    "tags": []
   },
   "outputs": [
    {
     "data": {
      "text/plain": [
       "{'name': 'Kaggle',\n",
       " 'founded': 2010,\n",
       " 'parent': 'Google LLC',\n",
       " 'users': 8100000,\n",
       " 'usage': ['Data Science', 'Machine Learning'],\n",
       " 'Cloud': True,\n",
       " 'Competitors': ['Google Colab', 'MS Azure Notebook']}"
      ]
     },
     "execution_count": 19,
     "metadata": {},
     "output_type": "execute_result"
    }
   ],
   "source": [
    "app"
   ]
  }
 ],
 "metadata": {
  "kernelspec": {
   "display_name": "Python 3",
   "language": "python",
   "name": "python3"
  },
  "language_info": {
   "codemirror_mode": {
    "name": "ipython",
    "version": 3
   },
   "file_extension": ".py",
   "mimetype": "text/x-python",
   "name": "python",
   "nbconvert_exporter": "python",
   "pygments_lexer": "ipython3",
   "version": "3.7.12"
  },
  "papermill": {
   "default_parameters": {},
   "duration": 11.265597,
   "end_time": "2023-04-05T10:20:59.691165",
   "environment_variables": {},
   "exception": null,
   "input_path": "__notebook__.ipynb",
   "output_path": "__notebook__.ipynb",
   "parameters": {},
   "start_time": "2023-04-05T10:20:48.425568",
   "version": "2.4.0"
  }
 },
 "nbformat": 4,
 "nbformat_minor": 5
}
